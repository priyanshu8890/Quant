{
 "cells": [
  {
   "cell_type": "code",
   "execution_count": 1,
   "id": "62e16297-4573-4be4-b0d1-a2a1420463e5",
   "metadata": {},
   "outputs": [
    {
     "name": "stdout",
     "output_type": "stream",
     "text": [
      "Requirement already satisfied: yfinance in d:\\anaconda\\lib\\site-packages (0.2.64)\n",
      "Requirement already satisfied: pandas>=1.3.0 in d:\\anaconda\\lib\\site-packages (from yfinance) (2.2.2)\n",
      "Requirement already satisfied: numpy>=1.16.5 in d:\\anaconda\\lib\\site-packages (from yfinance) (1.26.4)\n",
      "Requirement already satisfied: requests>=2.31 in d:\\anaconda\\lib\\site-packages (from yfinance) (2.32.3)\n",
      "Requirement already satisfied: multitasking>=0.0.7 in d:\\anaconda\\lib\\site-packages (from yfinance) (0.0.11)\n",
      "Requirement already satisfied: platformdirs>=2.0.0 in d:\\anaconda\\lib\\site-packages (from yfinance) (3.10.0)\n",
      "Requirement already satisfied: pytz>=2022.5 in d:\\anaconda\\lib\\site-packages (from yfinance) (2024.1)\n",
      "Requirement already satisfied: frozendict>=2.3.4 in d:\\anaconda\\lib\\site-packages (from yfinance) (2.4.2)\n",
      "Requirement already satisfied: peewee>=3.16.2 in d:\\anaconda\\lib\\site-packages (from yfinance) (3.18.1)\n",
      "Requirement already satisfied: beautifulsoup4>=4.11.1 in d:\\anaconda\\lib\\site-packages (from yfinance) (4.12.3)\n",
      "Requirement already satisfied: curl_cffi>=0.7 in d:\\anaconda\\lib\\site-packages (from yfinance) (0.11.4)\n",
      "Requirement already satisfied: protobuf>=3.19.0 in d:\\anaconda\\lib\\site-packages (from yfinance) (4.25.3)\n",
      "Requirement already satisfied: websockets>=13.0 in d:\\anaconda\\lib\\site-packages (from yfinance) (15.0.1)\n",
      "Requirement already satisfied: soupsieve>1.2 in d:\\anaconda\\lib\\site-packages (from beautifulsoup4>=4.11.1->yfinance) (2.5)\n",
      "Requirement already satisfied: cffi>=1.12.0 in d:\\anaconda\\lib\\site-packages (from curl_cffi>=0.7->yfinance) (1.17.1)\n",
      "Requirement already satisfied: certifi>=2024.2.2 in d:\\anaconda\\lib\\site-packages (from curl_cffi>=0.7->yfinance) (2025.4.26)\n",
      "Requirement already satisfied: python-dateutil>=2.8.2 in d:\\anaconda\\lib\\site-packages (from pandas>=1.3.0->yfinance) (2.9.0.post0)\n",
      "Requirement already satisfied: tzdata>=2022.7 in d:\\anaconda\\lib\\site-packages (from pandas>=1.3.0->yfinance) (2023.3)\n",
      "Requirement already satisfied: charset-normalizer<4,>=2 in d:\\anaconda\\lib\\site-packages (from requests>=2.31->yfinance) (3.3.2)\n",
      "Requirement already satisfied: idna<4,>=2.5 in d:\\anaconda\\lib\\site-packages (from requests>=2.31->yfinance) (3.7)\n",
      "Requirement already satisfied: urllib3<3,>=1.21.1 in d:\\anaconda\\lib\\site-packages (from requests>=2.31->yfinance) (2.2.3)\n",
      "Requirement already satisfied: pycparser in d:\\anaconda\\lib\\site-packages (from cffi>=1.12.0->curl_cffi>=0.7->yfinance) (2.21)\n",
      "Requirement already satisfied: six>=1.5 in d:\\anaconda\\lib\\site-packages (from python-dateutil>=2.8.2->pandas>=1.3.0->yfinance) (1.16.0)\n",
      "Note: you may need to restart the kernel to use updated packages.\n"
     ]
    }
   ],
   "source": [
    "pip install yfinance"
   ]
  },
  {
   "cell_type": "code",
   "execution_count": 2,
   "id": "fab3aa37-f121-4a44-8dfd-d3cfe6d99da4",
   "metadata": {},
   "outputs": [],
   "source": [
    "import yfinance as yf\n",
    "from datetime import datetime\n",
    "import time"
   ]
  },
  {
   "cell_type": "code",
   "execution_count": 3,
   "id": "3097636d-6939-4cf7-83a9-ebfda63a7720",
   "metadata": {},
   "outputs": [],
   "source": [
    "class TradingStrategy:\n",
    "    def __init__(self,name):\n",
    "        self.__name = name            # Name Variable is made private \n",
    "    def generatesignal(self,price_data):\n",
    "         print(\"This class has to be overridden\")\n",
    "         return \"HOLD\"\n",
    "    @property\n",
    "    def name(self):\n",
    "        return self.__name            # we can directly acces name as variable not as function using this "
   ]
  },
  {
   "cell_type": "code",
   "execution_count": 4,
   "id": "33378449-ff61-4225-b540-d7354db28c83",
   "metadata": {},
   "outputs": [],
   "source": [
    "class SmaTradingStrategy(TradingStrategy):\n",
    "    def __init__(self,swindow,lwindow):\n",
    "        self.__swindow = swindow\n",
    "        self.__lwindow = lwindow\n",
    "        super().__init__(\"Sma Crossover Strategy\")\n",
    "    def generatesignal(self,price_data):\n",
    "        if len(price_data) <  self.__lwindow :\n",
    "            return \"HOLD\"\n",
    "        short_avg = sum(price_data[-self.__swindow:])/self.__swindow         # Calculating simple moving avrage\n",
    "        long_avg = sum(price_data[-self.__lwindow:])/self.__lwindow\n",
    "        if short_avg < long_avg :\n",
    "            return \"Sell\"\n",
    "        elif short_avg > long_avg :\n",
    "            return \"Buy\"\n",
    "        else:\n",
    "            return \"Hold\"\n",
    "    @property\n",
    "    def swindow(self):\n",
    "        return self.__swindow \n",
    "\n",
    "    @property\n",
    "    def lwindow(self):\n",
    "        return self.__lwindow          "
   ]
  },
  {
   "cell_type": "code",
   "execution_count": 5,
   "id": "0b7cba1b-3cd7-4c21-b8a3-2aa6b48f8f0b",
   "metadata": {},
   "outputs": [],
   "source": [
    "class Trade:\n",
    "    def __init__(self,strat_name,price,amount,signal):\n",
    "        self.__strat_name = strat_name\n",
    "        self.__price = price\n",
    "        self.__amount = amount\n",
    "        self.__signal = signal\n",
    "        self.__timestamp = datetime.now()\n",
    "    def execute(self):\n",
    "        if self.__signal == \"Hold\":\n",
    "            print(f\"No Trade now to be executed as signal is Hold at time {self.__timestamp}\")\n",
    "        else:\n",
    "            print(f\"Executed a {self.__signal} trade using strategy {self.__strat_name} at price {self.__price} with amount {self.__amount} at time {self.__timestamp}\")\n",
    "    @property\n",
    "    def strat_name(self):\n",
    "        return self.__strat_name\n",
    "    @property\n",
    "    def price(self):\n",
    "        return self.__price \n",
    "    @property\n",
    "    def amount(self):\n",
    "        return self.__amount \n",
    "    @property\n",
    "    def signal(self):\n",
    "        return self.__signal "
   ]
  },
  {
   "cell_type": "code",
   "execution_count": 6,
   "id": "63663fad-732c-44f2-bb76-3fbaac89dd59",
   "metadata": {},
   "outputs": [],
   "source": [
    "class MockApiAccount:\n",
    "    def __init__(self,balance):\n",
    "        self.__balance = balance\n",
    "    def execute(self,trade,price):\n",
    "        if trade.signal==\"Buy\":\n",
    "            if trade.amount<=self.__balance:\n",
    "                self.__balance-= trade.amount\n",
    "                print(f\"Executed a {trade.signal} with amount {trade.amount} with remaning balance of {self.__balance}\")\n",
    "            else:\n",
    "                print(f\"Not Enough Balance: you need {trade.amount-self.__balance} more to execute this trade\")\n",
    "        elif trade.signal==\"Sell\":\n",
    "            self.__balance+= trade.amount\n",
    "            print(f\"Executed a {trade.signal} with amount {trade.amount} with remaning balance of {self.__balance}\")\n",
    "\n",
    "    @property\n",
    "    def balance(self):\n",
    "        return self.__balance\n",
    "            \n",
    "            \n",
    "            "
   ]
  },
  {
   "cell_type": "code",
   "execution_count": 22,
   "id": "fad94121-7159-4818-8d22-3f25c3f87a15",
   "metadata": {},
   "outputs": [],
   "source": [
    "class TradingData:\n",
    "    def __init__(self,api,strategy,symbol):\n",
    "        self.__api= api\n",
    "        self.__strategy = strategy\n",
    "        self.__symbol = symbol\n",
    "        self.__price_data = []\n",
    "    def fetch_price_data(self):\n",
    "        data = yf.download( tickers = self.__symbol, period = \"1D\",interval = \"1m\")\n",
    "        if not data.empty:\n",
    "            price = data['Close'].iloc[-1]           # Fetching the last closing price\n",
    "            self.__price_data.append(price)\n",
    "            if(len(self.__price_data)> self.__strategy.lwindow):\n",
    "                print(f\"Fetched price data: {self.__price_data}\")\n",
    "            else:\n",
    "                print(\"No data fetched\")\n",
    "    def run(self):\n",
    "        self.fetch_price_data()\n",
    "        signal = self.__strategy.generatesignal(self.__price_data)\n",
    "        print(f\"Generated Sinal: {signal}\")\n",
    "        if signal in [\"Sell\",\"Buy\"]:\n",
    "            trade = Trade(self.__strategy.name,signal,1)\n",
    "            trade.execute()\n",
    "            self.__api.execute(trade,self.__price_data[-1])\n",
    "    @property\n",
    "    def api(self):\n",
    "        return self.__api\n",
    "\n",
    "    @property\n",
    "    def strategy(self):\n",
    "        return self.__strategy\n",
    "\n",
    "    @property\n",
    "    def symbol(self):\n",
    "        return self.__symbol\n",
    "\n",
    "    @property\n",
    "    def balance(self):\n",
    "        return self.__price_data\n",
    "\n",
    "    "
   ]
  },
  {
   "cell_type": "code",
   "execution_count": 24,
   "id": "aa8e69aa-c534-4567-904f-554c8dc5e1b2",
   "metadata": {},
   "outputs": [
    {
     "name": "stderr",
     "output_type": "stream",
     "text": [
      "C:\\Users\\91889\\AppData\\Local\\Temp\\ipykernel_17648\\3686980608.py:8: FutureWarning: YF.download() has changed argument auto_adjust default to True\n",
      "  data = yf.download( tickers = self.__symbol, period = \"1D\",interval = \"1m\")\n",
      "[*********************100%***********************]  1 of 1 completed\n"
     ]
    },
    {
     "name": "stdout",
     "output_type": "stream",
     "text": [
      "No data fetched\n",
      "Generated Sinal: HOLD\n",
      "Remaining Balance: 100000\n"
     ]
    },
    {
     "name": "stderr",
     "output_type": "stream",
     "text": [
      "C:\\Users\\91889\\AppData\\Local\\Temp\\ipykernel_17648\\3686980608.py:8: FutureWarning: YF.download() has changed argument auto_adjust default to True\n",
      "  data = yf.download( tickers = self.__symbol, period = \"1D\",interval = \"1m\")\n",
      "[*********************100%***********************]  1 of 1 completed\n"
     ]
    },
    {
     "name": "stdout",
     "output_type": "stream",
     "text": [
      "No data fetched\n",
      "Generated Sinal: HOLD\n",
      "Remaining Balance: 100000\n"
     ]
    },
    {
     "name": "stderr",
     "output_type": "stream",
     "text": [
      "C:\\Users\\91889\\AppData\\Local\\Temp\\ipykernel_17648\\3686980608.py:8: FutureWarning: YF.download() has changed argument auto_adjust default to True\n",
      "  data = yf.download( tickers = self.__symbol, period = \"1D\",interval = \"1m\")\n",
      "[*********************100%***********************]  1 of 1 completed\n"
     ]
    },
    {
     "name": "stdout",
     "output_type": "stream",
     "text": [
      "No data fetched\n",
      "Generated Sinal: HOLD\n",
      "Remaining Balance: 100000\n"
     ]
    }
   ],
   "source": [
    "symbol = 'AAPL'\n",
    "api = MockApiAccount(100000)\n",
    "strategy = SmaTradingStrategy(1,5)\n",
    "tradedata = TradingData(api,strategy,symbol)\n",
    "for i in range(3):\n",
    "    tradedata.run()\n",
    "    print(f\"Remaining Balance: {api.balance}\")\n",
    "    time.sleep(2)"
   ]
  },
  {
   "cell_type": "code",
   "execution_count": null,
   "id": "236a817b-59bd-4263-9938-efbada5e5ed6",
   "metadata": {},
   "outputs": [],
   "source": [
    "check = SmaTradingStrategy(3,5)\n",
    "signal = check.generatesignal([1,2,3,4,5,10,20])\n",
    "strat_name = check.name\n",
    "trade = Trade(strat_name,100,100000,signal)\n",
    "mocktest = MockApiAccount(100)\n",
    "mocktest.execute(trade,500)\n",
    "trading = TradingData(mocktest,check,\"AAPL\")\n",
    "print(trading.fetch_price_data().head(5))"
   ]
  },
  {
   "cell_type": "code",
   "execution_count": null,
   "id": "babff39f-6401-46e1-ab57-c626d0ae602f",
   "metadata": {},
   "outputs": [],
   "source": []
  },
  {
   "cell_type": "code",
   "execution_count": null,
   "id": "b81f20d0-1a0e-401f-ba06-a656c960da11",
   "metadata": {},
   "outputs": [],
   "source": []
  },
  {
   "cell_type": "code",
   "execution_count": null,
   "id": "cba51155-3d39-4fb6-b6ce-b7c4080a8381",
   "metadata": {},
   "outputs": [],
   "source": []
  },
  {
   "cell_type": "code",
   "execution_count": null,
   "id": "1b198690-bd70-43d7-a586-8d87c5f9791e",
   "metadata": {},
   "outputs": [],
   "source": []
  }
 ],
 "metadata": {
  "kernelspec": {
   "display_name": "Python [conda env:base] *",
   "language": "python",
   "name": "conda-base-py"
  },
  "language_info": {
   "codemirror_mode": {
    "name": "ipython",
    "version": 3
   },
   "file_extension": ".py",
   "mimetype": "text/x-python",
   "name": "python",
   "nbconvert_exporter": "python",
   "pygments_lexer": "ipython3",
   "version": "3.12.7"
  }
 },
 "nbformat": 4,
 "nbformat_minor": 5
}
