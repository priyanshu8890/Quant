{
  "metadata": {
    "kernelspec": {
      "name": "python",
      "display_name": "Python (Pyodide)",
      "language": "python"
    },
    "language_info": {
      "codemirror_mode": {
        "name": "python",
        "version": 3
      },
      "file_extension": ".py",
      "mimetype": "text/x-python",
      "name": "python",
      "nbconvert_exporter": "python",
      "pygments_lexer": "ipython3",
      "version": "3.8"
    }
  },
  "nbformat_minor": 5,
  "nbformat": 4,
  "cells": [
    {
      "id": "9d0e0377-1831-4a31-bd0d-34f8267c8179",
      "cell_type": "code",
      "source": "import numpy as np\nfrom functools import wraps\nfrom time import time\n\ndef timing(f):\n    @wraps(f)\n    def wrap(*args, **kw):\n        ts = time()\n        result = f(*args, **kw)\n        te = time()\n        print('func:%r args:[%r, %r] took: %2.4f sec' % \\\n          (f.__name__, args, kw, te-ts))\n        return result\n    return wrap",
      "metadata": {
        "trusted": true
      },
      "outputs": [],
      "execution_count": 2
    },
    {
      "id": "25312b4d-921e-4a57-9a68-6841bf43ff5b",
      "cell_type": "code",
      "source": "strike = 100 # Strike Price Option\ns0 = 100 # Stock Price at beg\nu = 1.1 # Up Factor\nd= 1/u # Down Factor \nr= 0.06  # Risk Free Rate\nn = 3  #no of time steps\nt = 1  #time to maturity\noption_type = 'C'  #Call Option",
      "metadata": {
        "trusted": true
      },
      "outputs": [],
      "execution_count": 3
    },
    {
      "id": "79249dbc-4ffe-465c-a83f-26c4bcb94272",
      "cell_type": "code",
      "source": "#For Loop With Slow tree\n@timing\ndef binomial_Price_slow(strike,s0,u,d,r,n,t,option_type):\n    #initialize Constants\n    dt = t/n\n    q = (np.exp(r*dt) - d)/(u-d)  # Risk Neutral upside Probablity\n    disc = np.exp(-r*dt)  #discounting factor\n\n    #initializing prices at maturity\n    S = np.zeros(n+1)\n    S[0] = s0*(d**n)   # Botton Most node at maturity -->  Eg we start with 100 and then at t= 3 we get the node as 100*d*d*d \n\n    for j in range(1,n+1):\n        S[j] = S[j-1]*(u/d)    # zig zag movement from bottom most node  by divind by q we go left node and multiply by u we go right just above it\n\n    #intitalizing call option values \n    C = np.zeros(n+1)\n    for j in range(0,n+1):\n        C[j] = max( S[j] - strike , 0 )   # call value = Spot - Strike \n\n    # going back the tree to calcuate value \n    for i in np.arange(n,0,-1):\n        for j in range(0,i):\n            C[j] = disc * ( (q*C[j+1] + (1-q)*C[j]))     # calulating option value at previous node for each iteration \n   \n    return C[0]\n\nbinomial_Price_slow(strike,s0,u,d,r,n,t,option_type)",
      "metadata": {
        "trusted": true
      },
      "outputs": [
        {
          "name": "stdout",
          "output_type": "stream",
          "text": "func:'binomial_Price_slow' args:[(100, 100, 1.1, 0.9090909090909091, 0.06, 3, 1, 'C'), {}] took: 0.0010 sec\n"
        },
        {
          "execution_count": 4,
          "output_type": "execute_result",
          "data": {
            "text/plain": "np.float64(10.145735799928826)"
          },
          "metadata": {}
        }
      ],
      "execution_count": 4
    },
    {
      "id": "8bc69f35-d97c-45c5-b714-7e3a4bc6053a",
      "cell_type": "code",
      "source": "@timing\ndef binomial_Price_fast(strike,s0,u,d,r,n,t,option_type):\n   #initialize Constants\n    dt = t/n\n    q = (np.exp(r*dt) - d)/(u-d)  # Risk Neutral upside Probablity\n    disc = np.exp(-r*dt)  #discounting factor\n\n    #initializing prices at maturity\n    C = s0*(d**(np.arange(n,-1,-1))) * ( u ** (np.arange(0,n+1,1)))\n\n    #intitalizing call option values \n    C = np.maximum( C - strike , np.zeros(n+1))\n    \n    # going back the tree to calcuate value \n    for i in np.arange(n,0,-1):\n        for j in range(0,i):\n            C[j] = disc * ( (q*C[j+1] + (1-q)*C[j]))     # calulating option value at previous node for each iteration \n   \n    return C[0]\n    \nbinomial_Price_fast(strike,s0,u,d,r,n,t,option_type)",
      "metadata": {
        "trusted": true
      },
      "outputs": [
        {
          "name": "stdout",
          "output_type": "stream",
          "text": "func:'binomial_Price_fast' args:[(100, 100, 1.1, 0.9090909090909091, 0.06, 3, 1, 'C'), {}] took: 0.0010 sec\n"
        },
        {
          "execution_count": 5,
          "output_type": "execute_result",
          "data": {
            "text/plain": "np.float64(10.145735799928826)"
          },
          "metadata": {}
        }
      ],
      "execution_count": 5
    },
    {
      "id": "86cd6c30-477b-42d1-8ca7-823f13f247af",
      "cell_type": "code",
      "source": "for n in [10,50,100]:\n    print(binomial_Price_slow(strike,s0,u,d,r,n,t,option_type))\n    print(binomial_Price_fast(strike,s0,u,d,r,n,t,option_type))\n  \n ",
      "metadata": {
        "trusted": true
      },
      "outputs": [
        {
          "name": "stdout",
          "output_type": "stream",
          "text": "func:'binomial_Price_slow' args:[(100, 100, 1.1, 0.9090909090909091, 0.06, 10, 1, 'C'), {}] took: 0.0000 sec\n14.477538103234053\nfunc:'binomial_Price_fast' args:[(100, 100, 1.1, 0.9090909090909091, 0.06, 10, 1, 'C'), {}] took: 0.0000 sec\n14.477538103234021\nfunc:'binomial_Price_slow' args:[(100, 100, 1.1, 0.9090909090909091, 0.06, 50, 1, 'C'), {}] took: 0.0030 sec\n28.49926835944151\nfunc:'binomial_Price_fast' args:[(100, 100, 1.1, 0.9090909090909091, 0.06, 50, 1, 'C'), {}] took: 0.0020 sec\n28.49926835944145\nfunc:'binomial_Price_slow' args:[(100, 100, 1.1, 0.9090909090909091, 0.06, 100, 1, 'C'), {}] took: 0.0100 sec\n38.45357509478938\nfunc:'binomial_Price_fast' args:[(100, 100, 1.1, 0.9090909090909091, 0.06, 100, 1, 'C'), {}] took: 0.0120 sec\n38.45357509478929\n"
        }
      ],
      "execution_count": 7
    }
  ]
}