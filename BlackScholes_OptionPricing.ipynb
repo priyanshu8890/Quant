{
 "cells": [
  {
   "cell_type": "code",
   "execution_count": null,
   "id": "ce6f856c-25ab-42e5-b417-41ac3b944a07",
   "metadata": {},
   "outputs": [],
   "source": [
    "\"\"\"\n",
    "Black-Scholes-Merton (BSM) Option Pricing Model\n",
    "-----------------------------------------------\n",
    "\n",
    "This model provides a theoretical estimate of the price of European-style call and put options.\n",
    "\n",
    "---------------------\n",
    "Assumptions:\n",
    "- Option is European (can be exercised only at expiration).\n",
    "- No arbitrage opportunities.\n",
    "- Underlying asset follows geometric Brownian motion.\n",
    "- Constant volatility (σ) and risk-free rate (r).\n",
    "- No dividends paid on the underlying.\n",
    "- Markets are frictionless (no taxes or transaction costs).\n",
    "\n",
    "---------------------\n",
    "Inputs:\n",
    "- S  : Current stock price\n",
    "- K  : Strike price\n",
    "- r  : Risk-free interest rate (annualized, continuously compounded)\n",
    "- T  : Time to maturity (in years)\n",
    "- σ  : Volatility of the underlying asset (annualized)\n",
    "\n",
    "---------------------\n",
    "Formulas:\n",
    "1. d1 and d2:\n",
    "    d1 = [ ln(S / K) + (r + σ² / 2) * T ] / (σ * √T)\n",
    "    d2 = d1 - σ * √T\n",
    "\n",
    "2. European Call Option Price:\n",
    "    C = S * N(d1) - K * e^(-rT) * N(d2)\n",
    "\n",
    "3. European Put Option Price:\n",
    "    P = K * e^(-rT) * N(-d2) - S * N(-d1)\n",
    "\n",
    "Where:\n",
    "- N(x) is the cumulative distribution function (CDF) of the standard normal distribution.\n",
    "- ln is the natural logarithm.\n",
    "- e is Euler’s number (≈ 2.718).\n",
    "\n",
    "---------------------\n",
    "Interpretation of d1 and d2:\n",
    "- d1 measures the risk-adjusted distance between the current stock price and the strike price. It considers both the time value of money (r) and the volatility (σ).\n",
    "- d2 is derived from d1 by subtracting uncertainty (σ√T), and represents the probability (under risk-neutral measure) that the option will expire in-the-money.\n",
    "\n",
    "Further Interpretation:\n",
    "- N(d1): The risk-adjusted probability that the option will be exercised.\n",
    "- N(d2): The risk-neutral probability that the call option will expire in-the-money.\n",
    "\n",
    "This model forms the basis of much of modern option pricing and risk management.\n",
    "\"\"\"\n"
   ]
  },
  {
   "cell_type": "code",
   "execution_count": 31,
   "id": "703a3ca7-bfa5-4226-85fc-2251485ae0b7",
   "metadata": {},
   "outputs": [],
   "source": [
    "import math\n",
    "from scipy.stats import norm"
   ]
  },
  {
   "cell_type": "code",
   "execution_count": 32,
   "id": "c886b039-abb4-4a63-8042-b5ed15458a6b",
   "metadata": {},
   "outputs": [],
   "source": [
    "s = 105\n",
    "k = 100\n",
    "r = 0.0687   # current 10 yr Indian govt Bond Yeild\n",
    "t = 0.5  \n",
    "v = 0.125    # Current Indian vix"
   ]
  },
  {
   "cell_type": "code",
   "execution_count": 33,
   "id": "40984f5f-6ab7-4342-aa35-c0c311ceacfe",
   "metadata": {},
   "outputs": [],
   "source": [
    "# European Call Option Pricing\n",
    "d1 = (math.log(s/k) + (r + v**2 /2)*t)/ (v * math.sqrt(t))\n",
    "d2 = d1 - v*(math.sqrt(t))\n",
    "nd1 = norm.cdf(d1)          # cumulative distributive funtion \n",
    "nd2 = norm.cdf(d2) \n",
    "c = s * nd1 - k * math.exp(-r * t) * nd2"
   ]
  },
  {
   "cell_type": "code",
   "execution_count": 34,
   "id": "453506b9-0b46-42b4-b94e-7453b9ee3693",
   "metadata": {},
   "outputs": [],
   "source": [
    "# European Put Option Pricing\n",
    "p = k * math.exp(-r*t) * norm.cdf(-d2) - s* norm.cdf(-d1)"
   ]
  },
  {
   "cell_type": "code",
   "execution_count": 35,
   "id": "06312e66-fe1c-4694-9fbe-219719a07ce7",
   "metadata": {},
   "outputs": [
    {
     "name": "stdout",
     "output_type": "stream",
     "text": [
      "Value of d1 : 0.9848177557948506\n",
      "Value of d2 : 0.8964294081465322\n",
      "Value of Call Option : 9.205658853352816\n",
      "Value of Put Option : 0.8289852340009922\n"
     ]
    }
   ],
   "source": [
    "print(f\"Value of d1 : {d1}\")\n",
    "print(f\"Value of d2 : {d2}\")\n",
    "print(f\"Value of Call Option : {c}\")\n",
    "print(f\"Value of Put Option : {p}\")"
   ]
  },
  {
   "cell_type": "code",
   "execution_count": null,
   "id": "efaacad1-a33d-40c6-87b8-92db44453757",
   "metadata": {},
   "outputs": [],
   "source": []
  }
 ],
 "metadata": {
  "kernelspec": {
   "display_name": "Python [conda env:base] *",
   "language": "python",
   "name": "conda-base-py"
  },
  "language_info": {
   "codemirror_mode": {
    "name": "ipython",
    "version": 3
   },
   "file_extension": ".py",
   "mimetype": "text/x-python",
   "name": "python",
   "nbconvert_exporter": "python",
   "pygments_lexer": "ipython3",
   "version": "3.12.7"
  }
 },
 "nbformat": 4,
 "nbformat_minor": 5
}
